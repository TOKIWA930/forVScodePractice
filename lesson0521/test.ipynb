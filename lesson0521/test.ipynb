{
 "cells": [
  {
   "cell_type": "code",
   "execution_count": 3,
   "id": "07a26883",
   "metadata": {},
   "outputs": [],
   "source": [
    "import pandas as pd"
   ]
  },
  {
   "cell_type": "code",
   "execution_count": 4,
   "id": "be06b6cd",
   "metadata": {},
   "outputs": [],
   "source": [
    "df = pd.read_csv('train.csv')"
   ]
  },
  {
   "cell_type": "code",
   "execution_count": 7,
   "id": "d7683248",
   "metadata": {},
   "outputs": [
    {
     "name": "stdout",
     "output_type": "stream",
     "text": [
      "  POSTED_BY  UNDER_CONSTRUCTION  ...   LATITUDE  TARGET(PRICE_IN_LACS)\n",
      "0     Owner                   0  ...  77.597960                   55.0\n",
      "1    Dealer                   0  ...  76.644605                   51.0\n",
      "2     Owner                   0  ...  77.632191                   43.0\n",
      "3     Owner                   0  ...  77.344500                   62.5\n",
      "4    Dealer                   1  ...  88.484911                   60.5\n",
      "\n",
      "[5 rows x 12 columns]\n"
     ]
    }
   ],
   "source": [
    "print(df.head())"
   ]
  },
  {
   "cell_type": "code",
   "execution_count": 10,
   "id": "a4352785",
   "metadata": {},
   "outputs": [
    {
     "name": "stdout",
     "output_type": "stream",
     "text": [
      "      POSTED_BY  UNDER_CONSTRUCTION  ...   LATITUDE  TARGET(PRICE_IN_LACS)\n",
      "29446     Owner                   0  ...  78.043277                   45.0\n",
      "29447     Owner                   0  ... -86.150721                   16.0\n",
      "29448    Dealer                   0  ...  75.828002                   27.1\n",
      "29449     Owner                   0  ...  80.227910                   67.0\n",
      "29450    Dealer                   0  ...  75.841749                   27.8\n",
      "\n",
      "[5 rows x 12 columns]\n"
     ]
    }
   ],
   "source": [
    "print(df.tail())"
   ]
  },
  {
   "cell_type": "code",
   "execution_count": 11,
   "id": "e81cce95",
   "metadata": {},
   "outputs": [
    {
     "name": "stdout",
     "output_type": "stream",
     "text": [
      "(29451, 12)\n"
     ]
    }
   ],
   "source": [
    "print(df.shape)"
   ]
  },
  {
   "cell_type": "code",
   "execution_count": 12,
   "id": "a5345626",
   "metadata": {},
   "outputs": [
    {
     "name": "stdout",
     "output_type": "stream",
     "text": [
      "<class 'pandas.core.frame.DataFrame'>\n",
      "RangeIndex: 29451 entries, 0 to 29450\n",
      "Data columns (total 12 columns):\n",
      " #   Column                 Non-Null Count  Dtype  \n",
      "---  ------                 --------------  -----  \n",
      " 0   POSTED_BY              29451 non-null  object \n",
      " 1   UNDER_CONSTRUCTION     29451 non-null  int64  \n",
      " 2   RERA                   29451 non-null  int64  \n",
      " 3   BHK_NO.                29451 non-null  int64  \n",
      " 4   BHK_OR_RK              29451 non-null  object \n",
      " 5   SQUARE_FT              29451 non-null  float64\n",
      " 6   READY_TO_MOVE          29451 non-null  int64  \n",
      " 7   RESALE                 29451 non-null  int64  \n",
      " 8   ADDRESS                29451 non-null  object \n",
      " 9   LONGITUDE              29451 non-null  float64\n",
      " 10  LATITUDE               29451 non-null  float64\n",
      " 11  TARGET(PRICE_IN_LACS)  29451 non-null  float64\n",
      "dtypes: float64(4), int64(5), object(3)\n",
      "memory usage: 2.7+ MB\n",
      "None\n"
     ]
    }
   ],
   "source": [
    "print(df.info())"
   ]
  },
  {
   "cell_type": "code",
   "execution_count": 14,
   "id": "29007fc7",
   "metadata": {},
   "outputs": [],
   "source": [
    "df1 = pd.read_csv('train - rev.csv')"
   ]
  },
  {
   "cell_type": "code",
   "execution_count": 15,
   "id": "eee24bcf",
   "metadata": {},
   "outputs": [
    {
     "name": "stdout",
     "output_type": "stream",
     "text": [
      "<class 'pandas.core.frame.DataFrame'>\n",
      "RangeIndex: 29451 entries, 0 to 29450\n",
      "Data columns (total 12 columns):\n",
      " #   Column                 Non-Null Count  Dtype  \n",
      "---  ------                 --------------  -----  \n",
      " 0   POSTED_BY              29451 non-null  object \n",
      " 1   UNDER_CONSTRUCTION     29451 non-null  int64  \n",
      " 2   RERA                   29451 non-null  int64  \n",
      " 3   BHK_NO.                29451 non-null  int64  \n",
      " 4   BHK_OR_RK              29451 non-null  object \n",
      " 5   SQUARE_FT              29440 non-null  float64\n",
      " 6   READY_TO_MOVE          29451 non-null  int64  \n",
      " 7   RESALE                 29451 non-null  int64  \n",
      " 8   ADDRESS                29451 non-null  object \n",
      " 9   LONGITUDE              29451 non-null  float64\n",
      " 10  LATITUDE               29451 non-null  float64\n",
      " 11  TARGET(PRICE_IN_LACS)  29451 non-null  float64\n",
      "dtypes: float64(4), int64(5), object(3)\n",
      "memory usage: 2.7+ MB\n",
      "None\n"
     ]
    }
   ],
   "source": [
    "print(df1.info())"
   ]
  },
  {
   "cell_type": "code",
   "execution_count": 20,
   "id": "f04ae8c8",
   "metadata": {},
   "outputs": [
    {
     "name": "stdout",
     "output_type": "stream",
     "text": [
      "                       ADDRESS  LONGITUDE\n",
      "0        Ksfc Layout,Bangalore  12.969910\n",
      "1    Vishweshwara Nagar,Mysore  12.274538\n",
      "2             Jigani,Bangalore  12.778033\n",
      "3  Sector-1 Vaishali,Ghaziabad  28.642300\n",
      "4             New Town,Kolkata  22.592200\n"
     ]
    }
   ],
   "source": [
    "price_data = df[['ADDRESS','LONGITUDE']]\n",
    "print(price_data.head())"
   ]
  },
  {
   "cell_type": "code",
   "execution_count": 22,
   "id": "9ce6b5c7",
   "metadata": {},
   "outputs": [
    {
     "name": "stdout",
     "output_type": "stream",
     "text": [
      "      POSTED_BY  UNDER_CONSTRUCTION  ...  TARGET(PRICE_IN_LACS)  PRICE_CATEGORY\n",
      "0         Owner                   0  ...                   55.0             NaN\n",
      "1        Dealer                   0  ...                   51.0             NaN\n",
      "2         Owner                   0  ...                   43.0             Low\n",
      "3         Owner                   0  ...                   62.5             NaN\n",
      "4        Dealer                   1  ...                   60.5             NaN\n",
      "...         ...                 ...  ...                    ...             ...\n",
      "29446     Owner                   0  ...                   45.0             NaN\n",
      "29447     Owner                   0  ...                   16.0             Low\n",
      "29448    Dealer                   0  ...                   27.1             Low\n",
      "29449     Owner                   0  ...                   67.0             NaN\n",
      "29450    Dealer                   0  ...                   27.8             Low\n",
      "\n",
      "[29451 rows x 13 columns]\n"
     ]
    }
   ],
   "source": [
    "df.loc[df['TARGET(PRICE_IN_LACS)'] < 45, 'PRICE_CATEGORY'] = 'Low'\n",
    "print(df)"
   ]
  },
  {
   "cell_type": "code",
   "execution_count": 23,
   "id": "af1ef57b",
   "metadata": {},
   "outputs": [
    {
     "name": "stdout",
     "output_type": "stream",
     "text": [
      "<class 'pandas.core.frame.DataFrame'>\n",
      "RangeIndex: 29451 entries, 0 to 29450\n",
      "Data columns (total 13 columns):\n",
      " #   Column                 Non-Null Count  Dtype  \n",
      "---  ------                 --------------  -----  \n",
      " 0   POSTED_BY              29451 non-null  object \n",
      " 1   UNDER_CONSTRUCTION     29451 non-null  int64  \n",
      " 2   RERA                   29451 non-null  int64  \n",
      " 3   BHK_NO.                29451 non-null  int64  \n",
      " 4   BHK_OR_RK              29451 non-null  object \n",
      " 5   SQUARE_FT              29451 non-null  float64\n",
      " 6   READY_TO_MOVE          29451 non-null  int64  \n",
      " 7   RESALE                 29451 non-null  int64  \n",
      " 8   ADDRESS                29451 non-null  object \n",
      " 9   LONGITUDE              29451 non-null  float64\n",
      " 10  LATITUDE               29451 non-null  float64\n",
      " 11  TARGET(PRICE_IN_LACS)  29451 non-null  float64\n",
      " 12  PRICE_CATEGORY         9572 non-null   object \n",
      "dtypes: float64(4), int64(5), object(4)\n",
      "memory usage: 2.9+ MB\n",
      "None\n"
     ]
    }
   ],
   "source": [
    "print(df.info())"
   ]
  },
  {
   "cell_type": "code",
   "execution_count": 27,
   "id": "801d2d5f",
   "metadata": {},
   "outputs": [
    {
     "name": "stdout",
     "output_type": "stream",
     "text": [
      "0        55.0\n",
      "1        51.0\n",
      "2        43.0\n",
      "3        62.5\n",
      "4        60.5\n",
      "         ... \n",
      "29446    45.0\n",
      "29447    16.0\n",
      "29448    27.1\n",
      "29449    67.0\n",
      "29450    27.8\n",
      "Name: TARGET(PRICE_IN_LACS), Length: 29451, dtype: float64\n"
     ]
    }
   ],
   "source": [
    "print(df['TARGET(PRICE_IN_LACS)'])\n"
   ]
  }
 ],
 "metadata": {
  "kernelspec": {
   "display_name": "base",
   "language": "python",
   "name": "python3"
  },
  "language_info": {
   "codemirror_mode": {
    "name": "ipython",
    "version": 3
   },
   "file_extension": ".py",
   "mimetype": "text/x-python",
   "name": "python",
   "nbconvert_exporter": "python",
   "pygments_lexer": "ipython3",
   "version": "3.12.7"
  }
 },
 "nbformat": 4,
 "nbformat_minor": 5
}
